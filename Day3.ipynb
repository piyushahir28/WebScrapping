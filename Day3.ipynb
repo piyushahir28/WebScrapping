{
  "nbformat": 4,
  "nbformat_minor": 0,
  "metadata": {
    "colab": {
      "name": "Day3.ipynb",
      "provenance": [],
      "collapsed_sections": [],
      "authorship_tag": "ABX9TyM3VsAf+WTJ+8Fcgbn6T5jd",
      "include_colab_link": true
    },
    "kernelspec": {
      "name": "python3",
      "display_name": "Python 3"
    },
    "language_info": {
      "name": "python"
    },
    "accelerator": "GPU"
  },
  "cells": [
    {
      "cell_type": "markdown",
      "metadata": {
        "id": "view-in-github",
        "colab_type": "text"
      },
      "source": [
        "<a href=\"https://colab.research.google.com/github/piyushahir28/WebScrapping/blob/main/Day3.ipynb\" target=\"_parent\"><img src=\"https://colab.research.google.com/assets/colab-badge.svg\" alt=\"Open In Colab\"/></a>"
      ]
    },
    {
      "cell_type": "code",
      "metadata": {
        "id": "ZJo9_W_jaeTB"
      },
      "source": [
        "pip install requests_html"
      ],
      "execution_count": null,
      "outputs": []
    },
    {
      "cell_type": "code",
      "metadata": {
        "id": "HGAxGX-bwDoE"
      },
      "source": [
        "import re\n",
        "import csv\n",
        "from time import sleep\n",
        "from bs4 import BeautifulSoup\n",
        "from requests_html import HTMLSession\n",
        "session = HTMLSession()"
      ],
      "execution_count": 32,
      "outputs": []
    },
    {
      "cell_type": "markdown",
      "metadata": {
        "id": "C0MbeAic4KYd"
      },
      "source": [
        "div->class=FL->a->strong->TEXT || \n",
        "div->class=FL->p->PT3->TEXT"
      ]
    },
    {
      "cell_type": "code",
      "metadata": {
        "id": "F6vjlru2y6Dm"
      },
      "source": [
        "template = 'https://www.moneycontrol.com/stocks/company_info/stock_news.php?sc_id=RI&durationType=Y&Year={}'\n",
        "headers = {\n",
        "    'accept': '*/*',\n",
        "    'accept-encoding': 'gzip, deflate, br',\n",
        "    'accept-language': 'en-US,en;q=0.9',\n",
        "    'referer': 'https://www.google.com',\n",
        "    'user-agent': 'Mozilla/5.0 (Windows NT 10.0; Win64; x64) AppleWebKit/537.36 (KHTML, like Gecko) Chrome/85.0.4183.83 Safari/537.36 Edg/85.0.564.44'\n",
        "}\n",
        "\n",
        "url = template.format('2020')"
      ],
      "execution_count": 33,
      "outputs": []
    },
    {
      "cell_type": "code",
      "metadata": {
        "id": "W84o49GE2o_S"
      },
      "source": [
        "response = session.get(url, headers=headers)"
      ],
      "execution_count": 34,
      "outputs": []
    },
    {
      "cell_type": "code",
      "metadata": {
        "id": "2CzHze9-3CVG",
        "colab": {
          "base_uri": "https://localhost:8080/"
        },
        "outputId": "a0215ada-f689-44ae-f8de-2cf9690c4dd5"
      },
      "source": [
        "soup = BeautifulSoup(response.content, \"html.parser\")\n",
        "len(soup)"
      ],
      "execution_count": 36,
      "outputs": [
        {
          "output_type": "execute_result",
          "data": {
            "text/plain": [
              "4"
            ]
          },
          "metadata": {
            "tags": []
          },
          "execution_count": 36
        }
      ]
    },
    {
      "cell_type": "code",
      "metadata": {
        "colab": {
          "base_uri": "https://localhost:8080/"
        },
        "id": "QeVaxMeV6XY6",
        "outputId": "f2537e9f-713e-4831-d283-7298c4246536"
      },
      "source": [
        "checks = soup.find_all('a', 'g_14bl')\n",
        "len(checks)"
      ],
      "execution_count": 37,
      "outputs": [
        {
          "output_type": "execute_result",
          "data": {
            "text/plain": [
              "20"
            ]
          },
          "metadata": {
            "tags": []
          },
          "execution_count": 37
        }
      ]
    },
    {
      "cell_type": "code",
      "metadata": {
        "id": "wUTfTaFk62NZ",
        "colab": {
          "base_uri": "https://localhost:8080/"
        },
        "outputId": "4897b2b9-54df-4b2a-b8dc-155652c4a72f"
      },
      "source": [
        "for check in checks:\n",
        "  print(check.find('strong').text)"
      ],
      "execution_count": 38,
      "outputs": [
        {
          "output_type": "stream",
          "text": [
            "Infosys, RIL fastest and biggest wealth creators, says Motilal Oswal study\n",
            "Reliance, BP announce first gas from Asia’s deepest project\n",
            "Fuel for India 2020: Here's what Mukesh Ambani, Mark Zuckerberg said about the Facebook-Jio partnership\n",
            "Facebook Fuel for India 2020 | Conversation between Mukesh Ambani and Mark Zuckerberg: Read full transcript\n",
            "RIL Chairman Mukesh Ambani shares 3 entrepreneurship lessons he learnt from his father Dhirubhai Ambani\n",
            "Nita and Mukesh Ambani become grandparents for the first time\n",
            "Reliance Retail showcases over 40,000 artisan-crafted products during festive season, expands Vocal for Local mission\n",
            "India has entered a crucial phase in fight against COVID-19, can't relax now: Mukesh Ambani\n",
            "Here's the full text of Mukesh Ambani's speech at the PDPU convocation\n",
            "CCI approves Future Group-Reliance Retail deal in a setback to Amazon\n",
            "M-cap of eight of top-10 most valued firms zooms Rs 1.90 lakh crore\n",
            "Reliance buys furniture retailer Urban Ladder for Rs 182 crore\n",
            "Reliance Standalone September 2020 Net Sales at Rs 61,246.00 crore, down 29.71% Y-o-Y\n",
            "Reliance Consolidated September 2020 Net Sales at Rs 116,195.00 crore, down 21.77% Y-o-Y\n",
            "Nine of top 10 most valued firms lose Rs 1.63 lakh crore in market valuation\n",
            "Reliance Industries posts strong recovery in September quarter\n",
            "RIL shows strong sequential rebound across businesses in Q2; Jio, Retail segments shine\n",
            "RIL Q2 preview: Reliance Jio, Retail likely to show strong growth sequentially\n",
            "BP eyes India's fuel market, wants gas in GST: CEO Bernard Looney\n",
            "Open to further stimulus, assessing impact of the COVID-19 pandemic on FY21: Nirmala Sitharaman\n"
          ],
          "name": "stdout"
        }
      ]
    }
  ]
}