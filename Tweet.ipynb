{
  "nbformat": 4,
  "nbformat_minor": 0,
  "metadata": {
    "colab": {
      "name": "Tweet.ipynb",
      "provenance": [],
      "authorship_tag": "ABX9TyNuvZ11oHuDSwkciwmRLEa6",
      "include_colab_link": true
    },
    "kernelspec": {
      "name": "python3",
      "display_name": "Python 3"
    },
    "language_info": {
      "name": "python"
    },
    "accelerator": "GPU"
  },
  "cells": [
    {
      "cell_type": "markdown",
      "metadata": {
        "id": "view-in-github",
        "colab_type": "text"
      },
      "source": [
        "<a href=\"https://colab.research.google.com/github/piyushahir28/WebScrapping/blob/main/Tweet.ipynb\" target=\"_parent\"><img src=\"https://colab.research.google.com/assets/colab-badge.svg\" alt=\"Open In Colab\"/></a>"
      ]
    },
    {
      "cell_type": "code",
      "metadata": {
        "colab": {
          "base_uri": "https://localhost:8080/"
        },
        "id": "d1gLc0yI3pOO",
        "outputId": "819cb4d8-b89c-4093-d545-878fc7c631fc"
      },
      "source": [
        "!pip install tweepy"
      ],
      "execution_count": 1,
      "outputs": [
        {
          "output_type": "stream",
          "text": [
            "Requirement already satisfied: tweepy in /usr/local/lib/python3.7/dist-packages (3.10.0)\n",
            "Requirement already satisfied: six>=1.10.0 in /usr/local/lib/python3.7/dist-packages (from tweepy) (1.15.0)\n",
            "Requirement already satisfied: requests[socks]>=2.11.1 in /usr/local/lib/python3.7/dist-packages (from tweepy) (2.23.0)\n",
            "Requirement already satisfied: requests-oauthlib>=0.7.0 in /usr/local/lib/python3.7/dist-packages (from tweepy) (1.3.0)\n",
            "Requirement already satisfied: urllib3!=1.25.0,!=1.25.1,<1.26,>=1.21.1 in /usr/local/lib/python3.7/dist-packages (from requests[socks]>=2.11.1->tweepy) (1.24.3)\n",
            "Requirement already satisfied: certifi>=2017.4.17 in /usr/local/lib/python3.7/dist-packages (from requests[socks]>=2.11.1->tweepy) (2020.12.5)\n",
            "Requirement already satisfied: idna<3,>=2.5 in /usr/local/lib/python3.7/dist-packages (from requests[socks]>=2.11.1->tweepy) (2.10)\n",
            "Requirement already satisfied: chardet<4,>=3.0.2 in /usr/local/lib/python3.7/dist-packages (from requests[socks]>=2.11.1->tweepy) (3.0.4)\n",
            "Requirement already satisfied: PySocks!=1.5.7,>=1.5.6; extra == \"socks\" in /usr/local/lib/python3.7/dist-packages (from requests[socks]>=2.11.1->tweepy) (1.7.1)\n",
            "Requirement already satisfied: oauthlib>=3.0.0 in /usr/local/lib/python3.7/dist-packages (from requests-oauthlib>=0.7.0->tweepy) (3.1.0)\n"
          ],
          "name": "stdout"
        }
      ]
    },
    {
      "cell_type": "code",
      "metadata": {
        "id": "NmEg0qJr5zTK"
      },
      "source": [
        "import tweepy\n",
        "import pandas as pd"
      ],
      "execution_count": 2,
      "outputs": []
    },
    {
      "cell_type": "code",
      "metadata": {
        "id": "9_EfHN5-5XBM"
      },
      "source": [
        "consumer_key = 'NixrBS5VOmTbPSRMUertybbB3'\n",
        "consumer_secret = 'gvjZ46dwhlX4yvS3n4qAIPgH4Pglwa4AqpmCrOeJ5FeUSlR22u'\n",
        "consumer_token = '797100232555241472-duhzWC3UFdkcRInnuJSuhHv4fXzch6w'\n",
        "consumer_token_secret = 'ZDYCcQGRGBFv3d7cZ6gJo016cJnQxL2pxvO7Npp9rAT3A'"
      ],
      "execution_count": 3,
      "outputs": []
    },
    {
      "cell_type": "code",
      "metadata": {
        "id": "E4NLHTaq5_ED"
      },
      "source": [
        "auth = tweepy.OAuthHandler(consumer_key, consumer_secret)\n",
        "auth.set_access_token(consumer_token,consumer_token_secret)\n",
        "api = tweepy.API(auth)\n",
        "number_of_tweets = 4000\n",
        "tweets = []\n",
        "time = []"
      ],
      "execution_count": 4,
      "outputs": []
    },
    {
      "cell_type": "code",
      "metadata": {
        "id": "PP4dAH4z64Hu"
      },
      "source": [
        "for i in tweepy.Cursor(api.search, q= \"RelianceIndustries\", tweet_mode= \"extended\").items(number_of_tweets):\n",
        "    tweets.append(i.full_text)\n",
        "    time.append(i.created_at)"
      ],
      "execution_count": 5,
      "outputs": []
    },
    {
      "cell_type": "code",
      "metadata": {
        "id": "kNhwtn7wB486"
      },
      "source": [
        "df = pd.DataFrame({'tweets':tweets,'time':time})"
      ],
      "execution_count": 6,
      "outputs": []
    },
    {
      "cell_type": "code",
      "metadata": {
        "id": "TXAweKreFQsi",
        "colab": {
          "base_uri": "https://localhost:8080/",
          "height": 419
        },
        "outputId": "999b5953-a669-4fa8-82b1-51d250659663"
      },
      "source": [
        "df"
      ],
      "execution_count": 7,
      "outputs": [
        {
          "output_type": "execute_result",
          "data": {
            "text/html": [
              "<div>\n",
              "<style scoped>\n",
              "    .dataframe tbody tr th:only-of-type {\n",
              "        vertical-align: middle;\n",
              "    }\n",
              "\n",
              "    .dataframe tbody tr th {\n",
              "        vertical-align: top;\n",
              "    }\n",
              "\n",
              "    .dataframe thead th {\n",
              "        text-align: right;\n",
              "    }\n",
              "</style>\n",
              "<table border=\"1\" class=\"dataframe\">\n",
              "  <thead>\n",
              "    <tr style=\"text-align: right;\">\n",
              "      <th></th>\n",
              "      <th>tweets</th>\n",
              "      <th>time</th>\n",
              "    </tr>\n",
              "  </thead>\n",
              "  <tbody>\n",
              "    <tr>\n",
              "      <th>0</th>\n",
              "      <td>#RelianceIndustries hits my all 3 targets. 👊\\n...</td>\n",
              "      <td>2021-06-05 14:01:14</td>\n",
              "    </tr>\n",
              "    <tr>\n",
              "      <th>1</th>\n",
              "      <td>RT @MedhajNewsApp: देश के सबसे बड़े औद्योगिक घ...</td>\n",
              "      <td>2021-06-05 13:14:29</td>\n",
              "    </tr>\n",
              "    <tr>\n",
              "      <th>2</th>\n",
              "      <td>@Abhishekkar_ In my opinion,all stocks if they...</td>\n",
              "      <td>2021-06-05 11:52:54</td>\n",
              "    </tr>\n",
              "    <tr>\n",
              "      <th>3</th>\n",
              "      <td>If the employee of @reliance industry died bec...</td>\n",
              "      <td>2021-06-05 03:40:00</td>\n",
              "    </tr>\n",
              "    <tr>\n",
              "      <th>4</th>\n",
              "      <td>RT @LaughingColours: #RelianceIndustries #Muke...</td>\n",
              "      <td>2021-06-04 22:46:03</td>\n",
              "    </tr>\n",
              "    <tr>\n",
              "      <th>...</th>\n",
              "      <td>...</td>\n",
              "      <td>...</td>\n",
              "    </tr>\n",
              "    <tr>\n",
              "      <th>841</th>\n",
              "      <td>#Reliance #RelianceIndustries\\nReliance Target...</td>\n",
              "      <td>2021-05-28 11:37:22</td>\n",
              "    </tr>\n",
              "    <tr>\n",
              "      <th>842</th>\n",
              "      <td>Despite the nearly 6% rally, this is only the ...</td>\n",
              "      <td>2021-05-28 11:30:00</td>\n",
              "    </tr>\n",
              "    <tr>\n",
              "      <th>843</th>\n",
              "      <td>RT @NandaniGupta0: #Reliance Industries shares...</td>\n",
              "      <td>2021-05-28 11:19:52</td>\n",
              "    </tr>\n",
              "    <tr>\n",
              "      <th>844</th>\n",
              "      <td>RT @NandaniGupta0: #Reliance Industries shares...</td>\n",
              "      <td>2021-05-28 11:19:13</td>\n",
              "    </tr>\n",
              "    <tr>\n",
              "      <th>845</th>\n",
              "      <td>Reliance Industries chalks out a detailed plan...</td>\n",
              "      <td>2021-05-28 11:19:12</td>\n",
              "    </tr>\n",
              "  </tbody>\n",
              "</table>\n",
              "<p>846 rows × 2 columns</p>\n",
              "</div>"
            ],
            "text/plain": [
              "                                                tweets                time\n",
              "0    #RelianceIndustries hits my all 3 targets. 👊\\n... 2021-06-05 14:01:14\n",
              "1    RT @MedhajNewsApp: देश के सबसे बड़े औद्योगिक घ... 2021-06-05 13:14:29\n",
              "2    @Abhishekkar_ In my opinion,all stocks if they... 2021-06-05 11:52:54\n",
              "3    If the employee of @reliance industry died bec... 2021-06-05 03:40:00\n",
              "4    RT @LaughingColours: #RelianceIndustries #Muke... 2021-06-04 22:46:03\n",
              "..                                                 ...                 ...\n",
              "841  #Reliance #RelianceIndustries\\nReliance Target... 2021-05-28 11:37:22\n",
              "842  Despite the nearly 6% rally, this is only the ... 2021-05-28 11:30:00\n",
              "843  RT @NandaniGupta0: #Reliance Industries shares... 2021-05-28 11:19:52\n",
              "844  RT @NandaniGupta0: #Reliance Industries shares... 2021-05-28 11:19:13\n",
              "845  Reliance Industries chalks out a detailed plan... 2021-05-28 11:19:12\n",
              "\n",
              "[846 rows x 2 columns]"
            ]
          },
          "metadata": {
            "tags": []
          },
          "execution_count": 7
        }
      ]
    },
    {
      "cell_type": "code",
      "metadata": {
        "id": "2fHRB4pVioMP"
      },
      "source": [
        "df.to_csv('TweetsScrap.csv')"
      ],
      "execution_count": 8,
      "outputs": []
    },
    {
      "cell_type": "code",
      "metadata": {
        "colab": {
          "base_uri": "https://localhost:8080/",
          "height": 17
        },
        "id": "VsroJDo9itT7",
        "outputId": "abc2dff7-ab18-497a-ff21-8bde05d8f0e1"
      },
      "source": [
        "from google.colab import files\n",
        "files.download('TweetsScrap.csv')"
      ],
      "execution_count": 9,
      "outputs": [
        {
          "output_type": "display_data",
          "data": {
            "application/javascript": [
              "\n",
              "    async function download(id, filename, size) {\n",
              "      if (!google.colab.kernel.accessAllowed) {\n",
              "        return;\n",
              "      }\n",
              "      const div = document.createElement('div');\n",
              "      const label = document.createElement('label');\n",
              "      label.textContent = `Downloading \"${filename}\": `;\n",
              "      div.appendChild(label);\n",
              "      const progress = document.createElement('progress');\n",
              "      progress.max = size;\n",
              "      div.appendChild(progress);\n",
              "      document.body.appendChild(div);\n",
              "\n",
              "      const buffers = [];\n",
              "      let downloaded = 0;\n",
              "\n",
              "      const channel = await google.colab.kernel.comms.open(id);\n",
              "      // Send a message to notify the kernel that we're ready.\n",
              "      channel.send({})\n",
              "\n",
              "      for await (const message of channel.messages) {\n",
              "        // Send a message to notify the kernel that we're ready.\n",
              "        channel.send({})\n",
              "        if (message.buffers) {\n",
              "          for (const buffer of message.buffers) {\n",
              "            buffers.push(buffer);\n",
              "            downloaded += buffer.byteLength;\n",
              "            progress.value = downloaded;\n",
              "          }\n",
              "        }\n",
              "      }\n",
              "      const blob = new Blob(buffers, {type: 'application/binary'});\n",
              "      const a = document.createElement('a');\n",
              "      a.href = window.URL.createObjectURL(blob);\n",
              "      a.download = filename;\n",
              "      div.appendChild(a);\n",
              "      a.click();\n",
              "      div.remove();\n",
              "    }\n",
              "  "
            ],
            "text/plain": [
              "<IPython.core.display.Javascript object>"
            ]
          },
          "metadata": {
            "tags": []
          }
        },
        {
          "output_type": "display_data",
          "data": {
            "application/javascript": [
              "download(\"download_1a5f4489-1910-451d-a3e3-9b93591f32f8\", \"TweetsScrap.csv\", 179868)"
            ],
            "text/plain": [
              "<IPython.core.display.Javascript object>"
            ]
          },
          "metadata": {
            "tags": []
          }
        }
      ]
    }
  ]
}