{
  "nbformat": 4,
  "nbformat_minor": 0,
  "metadata": {
    "colab": {
      "name": "Final.ipynb",
      "provenance": [],
      "authorship_tag": "ABX9TyNRD2HKQgjeRBu4duCWOae6"
    },
    "kernelspec": {
      "name": "python3",
      "display_name": "Python 3"
    },
    "language_info": {
      "name": "python"
    },
    "accelerator": "GPU"
  },
  "cells": [
    {
      "cell_type": "code",
      "metadata": {
        "id": "gkdosWzLxAB3"
      },
      "source": [
        "import re\n",
        "import csv\n",
        "from time import sleep\n",
        "from bs4 import BeautifulSoup\n",
        "from bs4 import * \n",
        "import requests\n",
        "import pandas as pd"
      ],
      "execution_count": 49,
      "outputs": []
    },
    {
      "cell_type": "code",
      "metadata": {
        "id": "ZDD9ZKXrxi9A"
      },
      "source": [
        "headers = {\n",
        "    'accept': '*/*',\n",
        "    'accept-encoding': 'gzip, deflate, br',\n",
        "    'accept-language': 'en-US,en;q=0.9',\n",
        "    'referer': 'https://www.google.com',\n",
        "    'user-agent': 'Mozilla/5.0 (Windows NT 10.0; Win64; x64) AppleWebKit/537.36 (KHTML, like Gecko) Chrome/85.0.4183.83 Safari/537.36 Edg/85.0.564.44'\n",
        "}"
      ],
      "execution_count": 50,
      "outputs": []
    },
    {
      "cell_type": "code",
      "metadata": {
        "id": "Tmwo5ox4yGAa"
      },
      "source": [
        "def get_article(head):\n",
        "    \n",
        "    \"\"\"Extract article information from the raw html\"\"\"\n",
        "    headline = head.find('strong').text\n",
        "    \n",
        "    article = (headline)\n",
        "    return article"
      ],
      "execution_count": 51,
      "outputs": []
    },
    {
      "cell_type": "code",
      "metadata": {
        "id": "4uaJmpfhKy_y"
      },
      "source": [
        "def get_posted(date):\n",
        "    \n",
        "    final = date.text.replace('\\xa0|\\xa0  Source: ', ' ').strip()\n",
        "    finals = final[10:22]\n",
        "    time = finals\n",
        "\n",
        "    posted = (time)\n",
        "    return posted"
      ],
      "execution_count": 52,
      "outputs": []
    },
    {
      "cell_type": "code",
      "metadata": {
        "id": "oqcjH1Uv1qmX"
      },
      "source": [
        "def get_the_news(year,page):\n",
        "    y = year\n",
        "    totalPage = page\n",
        "    articles = []\n",
        "    posteds = []\n",
        "\n",
        "    for page in range(1, totalPage):\n",
        "      \n",
        "      template = 'https://www.moneycontrol.com/stocks/company_info/stock_news.php?sc_id=RI&scat=&pageno={}&next=0&durationType=Y&Year={}&duration=1&news_type='\n",
        "      url = template.format(page, year)\n",
        "      response = requests.get(url, headers=headers)\n",
        "      soup = BeautifulSoup(response.text, 'html.parser')\n",
        "      heads = soup.find_all('a', 'g_14bl')\n",
        "\n",
        "      for head in heads:\n",
        "            article = get_article(head)\n",
        "            articles.append(article)\n",
        "\n",
        "      sleep(1)\n",
        "          \n",
        "    return articles"
      ],
      "execution_count": 53,
      "outputs": []
    },
    {
      "cell_type": "code",
      "metadata": {
        "id": "6MwNuqXP3EjC"
      },
      "source": [
        "def get_the_date(year,page):\n",
        "    y = year\n",
        "    totalPage = page\n",
        "    posteds = []\n",
        "\n",
        "    for page in range(1, totalPage):\n",
        "      \n",
        "      template = 'https://www.moneycontrol.com/stocks/company_info/stock_news.php?sc_id=RI&scat=&pageno={}&next=0&durationType=Y&Year={}&duration=1&news_type='\n",
        "      url = template.format(page, year)\n",
        "      response = requests.get(url, headers=headers)\n",
        "      soup = BeautifulSoup(response.text, 'html.parser')\n",
        "      dates = soup.find_all('p', 'a_10dgry')\n",
        "\n",
        "      for date in dates:\n",
        "        posted = get_posted(date)\n",
        "        posteds.append(posted)\n",
        "\n",
        "      sleep(1)\n",
        "          \n",
        "    return posteds"
      ],
      "execution_count": 54,
      "outputs": []
    },
    {
      "cell_type": "code",
      "metadata": {
        "id": "qRJpdO79AOFz"
      },
      "source": [
        "articles = get_the_news(2021,3)\n",
        "posteds = get_the_date(2021,3)"
      ],
      "execution_count": 55,
      "outputs": []
    },
    {
      "cell_type": "code",
      "metadata": {
        "colab": {
          "base_uri": "https://localhost:8080/"
        },
        "id": "UoG9S5ZMCefn",
        "outputId": "0c681c27-c39c-4cd7-b984-476b83fd6a0b"
      },
      "source": [
        "articles"
      ],
      "execution_count": 63,
      "outputs": [
        {
          "output_type": "execute_result",
          "data": {
            "text/plain": [
              "['Reliance Foundation seeks govt nod to import J&J Covid vaccine doses for its workforce in India',\n",
              " 'Amid pandemic, RIL Chairman Mukesh Ambani draws nil salary',\n",
              " \"'RIL earnings momentum set to improve, these 3 events can add over Rs 500 to share price'\",\n",
              " \"Adani, Tata, L&T vying to build Lithium ion business under govt's PLI scheme: Report\",\n",
              " 'Mukesh Ambani says Reliance now has strong balance sheet to support growth',\n",
              " 'Reliance Industries turns top gainer with 6% rally, helps Nifty clock record high',\n",
              " 'D-Street Buzz: Over 250 stocks hit new 52-week high on BSE; RIL, Tata Steel, Eicher Motors top gainers',\n",
              " 'Reliance Industries launches Indiaâ\\x80\\x99s largest private COVID vaccination drive; to give free jabs to over 1.3 million employees, their families',\n",
              " 'RIL share price rises after Jio announces 2 offers for its customers',\n",
              " 'Reliance Consolidated March 2021 Net Sales at Rs 154,896.00 crore, up 13.69% Y-o-Y',\n",
              " 'Reliance Standalone March 2021 Net Sales at Rs 85,977.00 crore, up 16.25% Y-o-Y',\n",
              " 'What should investors do with RIL post Q4 earnings; buy, sell or hold?',\n",
              " 'Dalal Street Week Ahead: Here are 10 key factors that will keep traders busy next week',\n",
              " 'Reliance becomes Indiaâ\\x80\\x99s largest producer of medical grade liquid oxygen from single location',\n",
              " 'Reliance Industries Q4FY21: Strong contribution from digital businesses likely to offset probable weakness in cyclical sectors',\n",
              " 'Reliance Retail reports 45% YoY jump in Q4 profit at Rs 2,247 crore',\n",
              " 'Reliance Jio Q4 profit jumps 47.5% YoY to Rs 3,508 cr, ARPU stands at Rs 138.2',\n",
              " 'RIL Q4 profit more than doubles to Rs 13,227 crore, firm posts record annual profit of Rs 53,739 crore',\n",
              " 'RIL to announce Q4 numbers today: Revenue expected to grow in double digits',\n",
              " 'Indian markets dangerously resist virus resurgence',\n",
              " 'IOC, BPCL to supply oxygen to hospitals in Delhi, Haryana, Punjab',\n",
              " 'RIL share price rises on signing spectrum agreement with Bharti Airtel',\n",
              " 'Reliance Industries to cover COVID-19 vaccination costs of employees, families',\n",
              " 'RIL subsidiary acquires additional stake in skyTran; share price gains',\n",
              " 'Gelatin sticks for explosives: Terror angle not ruled out in Mukesh Ambani threat case',\n",
              " 'RIL oil-to-chemicals spin-off: Morgan Stanley overweight on the stock',\n",
              " 'Reliance to spin off O2C biz into 100% subsidiary',\n",
              " 'Tata Group to buy 68% stake in BigBasket for over Rs 9,000 crore',\n",
              " 'Market cap of seven of top-10 most valuable firms jump over Rs 1.40 lakh crore',\n",
              " \"RIL share price rises after Delhi High Court lifts 'Status Quo' order of Reliance-Future deal\",\n",
              " 'Reliance buys two-thirds of own gas from KG-D6; GAIL, Shell among other buyers',\n",
              " \"Reliance Industries gets world's first 'carbon-neutral' oil from US\",\n",
              " 'Future Group to challenge court order blocking its retail deal in dispute with Amazon',\n",
              " 'Nine of 10 most valued firms take over Rs 3.96 lakh crore hit in market cap',\n",
              " \"Energy sector hit by COVID-19, price stability crucial: Mukesh Ambani at Saudi's FII conference\",\n",
              " \"TCS pips Accenture to become the world's most valued IT firm\",\n",
              " 'What should investors do with Reliance Industries after Q3 result: buy, sell or hold?',\n",
              " 'M-cap of 4 of top-10 valued firms jumps over Rs 1.15 lakh crore',\n",
              " 'RIL Q3: Profit up 40% on robust revival in O2C, retail segments; Jio ARPU grows to Rs 151',\n",
              " 'Taking Stock | Profit-booking drags Nifty below 14,400, Sensex plunges over 700 pts']"
            ]
          },
          "metadata": {
            "tags": []
          },
          "execution_count": 63
        }
      ]
    },
    {
      "cell_type": "code",
      "metadata": {
        "colab": {
          "base_uri": "https://localhost:8080/"
        },
        "id": "cyycNb7GN-RN",
        "outputId": "593c8380-d8c1-487b-c354-c8b287d5c5a6"
      },
      "source": [
        "posteds"
      ],
      "execution_count": 64,
      "outputs": [
        {
          "output_type": "execute_result",
          "data": {
            "text/plain": [
              "['04 Jun 2021 ',\n",
              " '03 Jun 2021 ',\n",
              " '03 Jun 2021 ',\n",
              " ' 03 Jun 2021',\n",
              " '02 Jun 2021 ',\n",
              " '28 May 2021 ',\n",
              " ' 28 May 2021',\n",
              " '27 May 2021 ',\n",
              " ' 14 May 2021',\n",
              " '04 May 2021 ',\n",
              " '04 May 2021 ',\n",
              " '03 May 2021 ',\n",
              " '02 May 2021 ',\n",
              " '01 May 2021 ',\n",
              " ' 30 Apr 2021',\n",
              " '30 Apr 2021 ',\n",
              " '30 Apr 2021 ',\n",
              " '30 Apr 2021 ',\n",
              " '30 Apr 2021 ',\n",
              " ' 29 Apr 2021',\n",
              " '19 Apr 2021 ',\n",
              " '07 Apr 2021 ',\n",
              " '05 Mar 2021 ',\n",
              " '01 Mar 2021 ',\n",
              " '27 Feb 2021 ',\n",
              " '23 Feb 2021 ',\n",
              " '23 Feb 2021 ',\n",
              " '16 Feb 2021 ',\n",
              " ' 14 Feb 2021',\n",
              " '09 Feb 2021 ',\n",
              " ' 07 Feb 2021',\n",
              " '04 Feb 2021 ',\n",
              " ' 03 Feb 2021',\n",
              " ' 31 Jan 2021',\n",
              " ' 27 Jan 2021',\n",
              " '25 Jan 2021 ',\n",
              " '25 Jan 2021 ',\n",
              " ' 24 Jan 2021',\n",
              " '22 Jan 2021 ',\n",
              " '22 Jan 2021 ']"
            ]
          },
          "metadata": {
            "tags": []
          },
          "execution_count": 64
        }
      ]
    },
    {
      "cell_type": "code",
      "metadata": {
        "id": "s-v9EN98ODBj"
      },
      "source": [
        "df = pd.DataFrame({'Headlines':articles,'Date':posteds})"
      ],
      "execution_count": 58,
      "outputs": []
    },
    {
      "cell_type": "code",
      "metadata": {
        "colab": {
          "base_uri": "https://localhost:8080/",
          "height": 1000
        },
        "id": "zHIWOd6gOWDE",
        "outputId": "54baf65c-2058-415c-832b-4ff15fdf83dd"
      },
      "source": [
        "df"
      ],
      "execution_count": 65,
      "outputs": [
        {
          "output_type": "execute_result",
          "data": {
            "text/html": [
              "<div>\n",
              "<style scoped>\n",
              "    .dataframe tbody tr th:only-of-type {\n",
              "        vertical-align: middle;\n",
              "    }\n",
              "\n",
              "    .dataframe tbody tr th {\n",
              "        vertical-align: top;\n",
              "    }\n",
              "\n",
              "    .dataframe thead th {\n",
              "        text-align: right;\n",
              "    }\n",
              "</style>\n",
              "<table border=\"1\" class=\"dataframe\">\n",
              "  <thead>\n",
              "    <tr style=\"text-align: right;\">\n",
              "      <th></th>\n",
              "      <th>Headlines</th>\n",
              "      <th>Date</th>\n",
              "    </tr>\n",
              "  </thead>\n",
              "  <tbody>\n",
              "    <tr>\n",
              "      <th>0</th>\n",
              "      <td>Reliance Foundation seeks govt nod to import J...</td>\n",
              "      <td>04 Jun 2021</td>\n",
              "    </tr>\n",
              "    <tr>\n",
              "      <th>1</th>\n",
              "      <td>Amid pandemic, RIL Chairman Mukesh Ambani draw...</td>\n",
              "      <td>03 Jun 2021</td>\n",
              "    </tr>\n",
              "    <tr>\n",
              "      <th>2</th>\n",
              "      <td>'RIL earnings momentum set to improve, these 3...</td>\n",
              "      <td>03 Jun 2021</td>\n",
              "    </tr>\n",
              "    <tr>\n",
              "      <th>3</th>\n",
              "      <td>Adani, Tata, L&amp;T vying to build Lithium ion bu...</td>\n",
              "      <td>03 Jun 2021</td>\n",
              "    </tr>\n",
              "    <tr>\n",
              "      <th>4</th>\n",
              "      <td>Mukesh Ambani says Reliance now has strong bal...</td>\n",
              "      <td>02 Jun 2021</td>\n",
              "    </tr>\n",
              "    <tr>\n",
              "      <th>5</th>\n",
              "      <td>Reliance Industries turns top gainer with 6% r...</td>\n",
              "      <td>28 May 2021</td>\n",
              "    </tr>\n",
              "    <tr>\n",
              "      <th>6</th>\n",
              "      <td>D-Street Buzz: Over 250 stocks hit new 52-week...</td>\n",
              "      <td>28 May 2021</td>\n",
              "    </tr>\n",
              "    <tr>\n",
              "      <th>7</th>\n",
              "      <td>Reliance Industries launches Indiaâs largest...</td>\n",
              "      <td>27 May 2021</td>\n",
              "    </tr>\n",
              "    <tr>\n",
              "      <th>8</th>\n",
              "      <td>RIL share price rises after Jio announces 2 of...</td>\n",
              "      <td>14 May 2021</td>\n",
              "    </tr>\n",
              "    <tr>\n",
              "      <th>9</th>\n",
              "      <td>Reliance Consolidated March 2021 Net Sales at ...</td>\n",
              "      <td>04 May 2021</td>\n",
              "    </tr>\n",
              "    <tr>\n",
              "      <th>10</th>\n",
              "      <td>Reliance Standalone March 2021 Net Sales at Rs...</td>\n",
              "      <td>04 May 2021</td>\n",
              "    </tr>\n",
              "    <tr>\n",
              "      <th>11</th>\n",
              "      <td>What should investors do with RIL post Q4 earn...</td>\n",
              "      <td>03 May 2021</td>\n",
              "    </tr>\n",
              "    <tr>\n",
              "      <th>12</th>\n",
              "      <td>Dalal Street Week Ahead: Here are 10 key facto...</td>\n",
              "      <td>02 May 2021</td>\n",
              "    </tr>\n",
              "    <tr>\n",
              "      <th>13</th>\n",
              "      <td>Reliance becomes Indiaâs largest producer of...</td>\n",
              "      <td>01 May 2021</td>\n",
              "    </tr>\n",
              "    <tr>\n",
              "      <th>14</th>\n",
              "      <td>Reliance Industries Q4FY21: Strong contributio...</td>\n",
              "      <td>30 Apr 2021</td>\n",
              "    </tr>\n",
              "    <tr>\n",
              "      <th>15</th>\n",
              "      <td>Reliance Retail reports 45% YoY jump in Q4 pro...</td>\n",
              "      <td>30 Apr 2021</td>\n",
              "    </tr>\n",
              "    <tr>\n",
              "      <th>16</th>\n",
              "      <td>Reliance Jio Q4 profit jumps 47.5% YoY to Rs 3...</td>\n",
              "      <td>30 Apr 2021</td>\n",
              "    </tr>\n",
              "    <tr>\n",
              "      <th>17</th>\n",
              "      <td>RIL Q4 profit more than doubles to Rs 13,227 c...</td>\n",
              "      <td>30 Apr 2021</td>\n",
              "    </tr>\n",
              "    <tr>\n",
              "      <th>18</th>\n",
              "      <td>RIL to announce Q4 numbers today: Revenue expe...</td>\n",
              "      <td>30 Apr 2021</td>\n",
              "    </tr>\n",
              "    <tr>\n",
              "      <th>19</th>\n",
              "      <td>Indian markets dangerously resist virus resurg...</td>\n",
              "      <td>29 Apr 2021</td>\n",
              "    </tr>\n",
              "    <tr>\n",
              "      <th>20</th>\n",
              "      <td>IOC, BPCL to supply oxygen to hospitals in Del...</td>\n",
              "      <td>19 Apr 2021</td>\n",
              "    </tr>\n",
              "    <tr>\n",
              "      <th>21</th>\n",
              "      <td>RIL share price rises on signing spectrum agre...</td>\n",
              "      <td>07 Apr 2021</td>\n",
              "    </tr>\n",
              "    <tr>\n",
              "      <th>22</th>\n",
              "      <td>Reliance Industries to cover COVID-19 vaccinat...</td>\n",
              "      <td>05 Mar 2021</td>\n",
              "    </tr>\n",
              "    <tr>\n",
              "      <th>23</th>\n",
              "      <td>RIL subsidiary acquires additional stake in sk...</td>\n",
              "      <td>01 Mar 2021</td>\n",
              "    </tr>\n",
              "    <tr>\n",
              "      <th>24</th>\n",
              "      <td>Gelatin sticks for explosives: Terror angle no...</td>\n",
              "      <td>27 Feb 2021</td>\n",
              "    </tr>\n",
              "    <tr>\n",
              "      <th>25</th>\n",
              "      <td>RIL oil-to-chemicals spin-off: Morgan Stanley ...</td>\n",
              "      <td>23 Feb 2021</td>\n",
              "    </tr>\n",
              "    <tr>\n",
              "      <th>26</th>\n",
              "      <td>Reliance to spin off O2C biz into 100% subsidiary</td>\n",
              "      <td>23 Feb 2021</td>\n",
              "    </tr>\n",
              "    <tr>\n",
              "      <th>27</th>\n",
              "      <td>Tata Group to buy 68% stake in BigBasket for o...</td>\n",
              "      <td>16 Feb 2021</td>\n",
              "    </tr>\n",
              "    <tr>\n",
              "      <th>28</th>\n",
              "      <td>Market cap of seven of top-10 most valuable fi...</td>\n",
              "      <td>14 Feb 2021</td>\n",
              "    </tr>\n",
              "    <tr>\n",
              "      <th>29</th>\n",
              "      <td>RIL share price rises after Delhi High Court l...</td>\n",
              "      <td>09 Feb 2021</td>\n",
              "    </tr>\n",
              "    <tr>\n",
              "      <th>30</th>\n",
              "      <td>Reliance buys two-thirds of own gas from KG-D6...</td>\n",
              "      <td>07 Feb 2021</td>\n",
              "    </tr>\n",
              "    <tr>\n",
              "      <th>31</th>\n",
              "      <td>Reliance Industries gets world's first 'carbon...</td>\n",
              "      <td>04 Feb 2021</td>\n",
              "    </tr>\n",
              "    <tr>\n",
              "      <th>32</th>\n",
              "      <td>Future Group to challenge court order blocking...</td>\n",
              "      <td>03 Feb 2021</td>\n",
              "    </tr>\n",
              "    <tr>\n",
              "      <th>33</th>\n",
              "      <td>Nine of 10 most valued firms take over Rs 3.96...</td>\n",
              "      <td>31 Jan 2021</td>\n",
              "    </tr>\n",
              "    <tr>\n",
              "      <th>34</th>\n",
              "      <td>Energy sector hit by COVID-19, price stability...</td>\n",
              "      <td>27 Jan 2021</td>\n",
              "    </tr>\n",
              "    <tr>\n",
              "      <th>35</th>\n",
              "      <td>TCS pips Accenture to become the world's most ...</td>\n",
              "      <td>25 Jan 2021</td>\n",
              "    </tr>\n",
              "    <tr>\n",
              "      <th>36</th>\n",
              "      <td>What should investors do with Reliance Industr...</td>\n",
              "      <td>25 Jan 2021</td>\n",
              "    </tr>\n",
              "    <tr>\n",
              "      <th>37</th>\n",
              "      <td>M-cap of 4 of top-10 valued firms jumps over R...</td>\n",
              "      <td>24 Jan 2021</td>\n",
              "    </tr>\n",
              "    <tr>\n",
              "      <th>38</th>\n",
              "      <td>RIL Q3: Profit up 40% on robust revival in O2C...</td>\n",
              "      <td>22 Jan 2021</td>\n",
              "    </tr>\n",
              "    <tr>\n",
              "      <th>39</th>\n",
              "      <td>Taking Stock | Profit-booking drags Nifty belo...</td>\n",
              "      <td>22 Jan 2021</td>\n",
              "    </tr>\n",
              "  </tbody>\n",
              "</table>\n",
              "</div>"
            ],
            "text/plain": [
              "                                            Headlines          Date\n",
              "0   Reliance Foundation seeks govt nod to import J...  04 Jun 2021 \n",
              "1   Amid pandemic, RIL Chairman Mukesh Ambani draw...  03 Jun 2021 \n",
              "2   'RIL earnings momentum set to improve, these 3...  03 Jun 2021 \n",
              "3   Adani, Tata, L&T vying to build Lithium ion bu...   03 Jun 2021\n",
              "4   Mukesh Ambani says Reliance now has strong bal...  02 Jun 2021 \n",
              "5   Reliance Industries turns top gainer with 6% r...  28 May 2021 \n",
              "6   D-Street Buzz: Over 250 stocks hit new 52-week...   28 May 2021\n",
              "7   Reliance Industries launches Indiaâs largest...  27 May 2021 \n",
              "8   RIL share price rises after Jio announces 2 of...   14 May 2021\n",
              "9   Reliance Consolidated March 2021 Net Sales at ...  04 May 2021 \n",
              "10  Reliance Standalone March 2021 Net Sales at Rs...  04 May 2021 \n",
              "11  What should investors do with RIL post Q4 earn...  03 May 2021 \n",
              "12  Dalal Street Week Ahead: Here are 10 key facto...  02 May 2021 \n",
              "13  Reliance becomes Indiaâs largest producer of...  01 May 2021 \n",
              "14  Reliance Industries Q4FY21: Strong contributio...   30 Apr 2021\n",
              "15  Reliance Retail reports 45% YoY jump in Q4 pro...  30 Apr 2021 \n",
              "16  Reliance Jio Q4 profit jumps 47.5% YoY to Rs 3...  30 Apr 2021 \n",
              "17  RIL Q4 profit more than doubles to Rs 13,227 c...  30 Apr 2021 \n",
              "18  RIL to announce Q4 numbers today: Revenue expe...  30 Apr 2021 \n",
              "19  Indian markets dangerously resist virus resurg...   29 Apr 2021\n",
              "20  IOC, BPCL to supply oxygen to hospitals in Del...  19 Apr 2021 \n",
              "21  RIL share price rises on signing spectrum agre...  07 Apr 2021 \n",
              "22  Reliance Industries to cover COVID-19 vaccinat...  05 Mar 2021 \n",
              "23  RIL subsidiary acquires additional stake in sk...  01 Mar 2021 \n",
              "24  Gelatin sticks for explosives: Terror angle no...  27 Feb 2021 \n",
              "25  RIL oil-to-chemicals spin-off: Morgan Stanley ...  23 Feb 2021 \n",
              "26  Reliance to spin off O2C biz into 100% subsidiary  23 Feb 2021 \n",
              "27  Tata Group to buy 68% stake in BigBasket for o...  16 Feb 2021 \n",
              "28  Market cap of seven of top-10 most valuable fi...   14 Feb 2021\n",
              "29  RIL share price rises after Delhi High Court l...  09 Feb 2021 \n",
              "30  Reliance buys two-thirds of own gas from KG-D6...   07 Feb 2021\n",
              "31  Reliance Industries gets world's first 'carbon...  04 Feb 2021 \n",
              "32  Future Group to challenge court order blocking...   03 Feb 2021\n",
              "33  Nine of 10 most valued firms take over Rs 3.96...   31 Jan 2021\n",
              "34  Energy sector hit by COVID-19, price stability...   27 Jan 2021\n",
              "35  TCS pips Accenture to become the world's most ...  25 Jan 2021 \n",
              "36  What should investors do with Reliance Industr...  25 Jan 2021 \n",
              "37  M-cap of 4 of top-10 valued firms jumps over R...   24 Jan 2021\n",
              "38  RIL Q3: Profit up 40% on robust revival in O2C...  22 Jan 2021 \n",
              "39  Taking Stock | Profit-booking drags Nifty belo...  22 Jan 2021 "
            ]
          },
          "metadata": {
            "tags": []
          },
          "execution_count": 65
        }
      ]
    },
    {
      "cell_type": "code",
      "metadata": {
        "id": "QUaF-FkfOa67"
      },
      "source": [
        "df.to_csv('Reliance2021.csv')"
      ],
      "execution_count": 61,
      "outputs": []
    },
    {
      "cell_type": "code",
      "metadata": {
        "colab": {
          "base_uri": "https://localhost:8080/",
          "height": 17
        },
        "id": "4a4J1l2yOnE0",
        "outputId": "2e9d19b5-6e7b-499d-a10c-4f610ec27bbe"
      },
      "source": [
        "from google.colab import files\n",
        "files.download('Reliance2021.csv')"
      ],
      "execution_count": 62,
      "outputs": [
        {
          "output_type": "display_data",
          "data": {
            "application/javascript": [
              "\n",
              "    async function download(id, filename, size) {\n",
              "      if (!google.colab.kernel.accessAllowed) {\n",
              "        return;\n",
              "      }\n",
              "      const div = document.createElement('div');\n",
              "      const label = document.createElement('label');\n",
              "      label.textContent = `Downloading \"${filename}\": `;\n",
              "      div.appendChild(label);\n",
              "      const progress = document.createElement('progress');\n",
              "      progress.max = size;\n",
              "      div.appendChild(progress);\n",
              "      document.body.appendChild(div);\n",
              "\n",
              "      const buffers = [];\n",
              "      let downloaded = 0;\n",
              "\n",
              "      const channel = await google.colab.kernel.comms.open(id);\n",
              "      // Send a message to notify the kernel that we're ready.\n",
              "      channel.send({})\n",
              "\n",
              "      for await (const message of channel.messages) {\n",
              "        // Send a message to notify the kernel that we're ready.\n",
              "        channel.send({})\n",
              "        if (message.buffers) {\n",
              "          for (const buffer of message.buffers) {\n",
              "            buffers.push(buffer);\n",
              "            downloaded += buffer.byteLength;\n",
              "            progress.value = downloaded;\n",
              "          }\n",
              "        }\n",
              "      }\n",
              "      const blob = new Blob(buffers, {type: 'application/binary'});\n",
              "      const a = document.createElement('a');\n",
              "      a.href = window.URL.createObjectURL(blob);\n",
              "      a.download = filename;\n",
              "      div.appendChild(a);\n",
              "      a.click();\n",
              "      div.remove();\n",
              "    }\n",
              "  "
            ],
            "text/plain": [
              "<IPython.core.display.Javascript object>"
            ]
          },
          "metadata": {
            "tags": []
          }
        },
        {
          "output_type": "display_data",
          "data": {
            "application/javascript": [
              "download(\"download_7de30672-2b05-4d55-8617-1b0ed605cb1f\", \"Reliance2021.csv\", 3938)"
            ],
            "text/plain": [
              "<IPython.core.display.Javascript object>"
            ]
          },
          "metadata": {
            "tags": []
          }
        }
      ]
    }
  ]
}