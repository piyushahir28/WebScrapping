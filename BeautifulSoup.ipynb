{
  "nbformat": 4,
  "nbformat_minor": 0,
  "metadata": {
    "colab": {
      "name": "BeautifulSoup.ipynb",
      "provenance": [],
      "collapsed_sections": [],
      "authorship_tag": "ABX9TyPOcfNdcp3gAtOEGd4eD97L",
      "include_colab_link": true
    },
    "kernelspec": {
      "name": "python3",
      "display_name": "Python 3"
    },
    "language_info": {
      "name": "python"
    },
    "accelerator": "GPU"
  },
  "cells": [
    {
      "cell_type": "markdown",
      "metadata": {
        "id": "view-in-github",
        "colab_type": "text"
      },
      "source": [
        "<a href=\"https://colab.research.google.com/github/piyushahir28/WebScrapping/blob/main/BeautifulSoup.ipynb\" target=\"_parent\"><img src=\"https://colab.research.google.com/assets/colab-badge.svg\" alt=\"Open In Colab\"/></a>"
      ]
    },
    {
      "cell_type": "code",
      "metadata": {
        "id": "HGAxGX-bwDoE"
      },
      "source": [
        "import re\n",
        "import csv\n",
        "from time import sleep\n",
        "from bs4 import BeautifulSoup\n",
        "import requests"
      ],
      "execution_count": 54,
      "outputs": []
    },
    {
      "cell_type": "markdown",
      "metadata": {
        "id": "C0MbeAic4KYd"
      },
      "source": [
        "div->class=FL->a->strong->TEXT || \n",
        "div->class=FL->p->PT3->TEXT"
      ]
    },
    {
      "cell_type": "code",
      "metadata": {
        "id": "F6vjlru2y6Dm"
      },
      "source": [
        "template = 'https://www.moneycontrol.com/stocks/company_info/stock_news.php?sc_id=RI&durationType=Y&Year={}'\n",
        "headers = {\n",
        "    'accept': '*/*',\n",
        "    'accept-encoding': 'gzip, deflate, br',\n",
        "    'accept-language': 'en-US,en;q=0.9',\n",
        "    'referer': 'https://www.google.com',\n",
        "    'user-agent': 'Mozilla/5.0 (Windows NT 10.0; Win64; x64) AppleWebKit/537.36 (KHTML, like Gecko) Chrome/85.0.4183.83 Safari/537.36 Edg/85.0.564.44'\n",
        "}\n",
        "\n",
        "url = template.format('2015')"
      ],
      "execution_count": 55,
      "outputs": []
    },
    {
      "cell_type": "code",
      "metadata": {
        "id": "W84o49GE2o_S"
      },
      "source": [
        "response = requests.get(url, headers=headers)"
      ],
      "execution_count": 56,
      "outputs": []
    },
    {
      "cell_type": "code",
      "metadata": {
        "id": "2CzHze9-3CVG"
      },
      "source": [
        "soup = BeautifulSoup(response.text, \"html.parser\")"
      ],
      "execution_count": 57,
      "outputs": []
    },
    {
      "cell_type": "code",
      "metadata": {
        "colab": {
          "base_uri": "https://localhost:8080/"
        },
        "id": "QeVaxMeV6XY6",
        "outputId": "06dd2705-7efc-4048-8424-47cd12a39514"
      },
      "source": [
        "cards = soup.find_all('div', 'MT15')\n",
        "len(cards)"
      ],
      "execution_count": 58,
      "outputs": [
        {
          "output_type": "execute_result",
          "data": {
            "text/plain": [
              "22"
            ]
          },
          "metadata": {
            "tags": []
          },
          "execution_count": 58
        }
      ]
    },
    {
      "cell_type": "code",
      "metadata": {
        "id": "wUTfTaFk62NZ",
        "colab": {
          "base_uri": "https://localhost:8080/"
        },
        "outputId": "d5d94d2b-caa9-41ca-ca39-7bd2bd32e99f"
      },
      "source": [
        "card = cards[0]\n",
        "card"
      ],
      "execution_count": 59,
      "outputs": [
        {
          "output_type": "execute_result",
          "data": {
            "text/plain": [
              "<div class=\"MT15 PT10 PB10\" style=\"border-bottom:1px #bfbfbf solid;\">\n",
              "<div class=\"FL PR20\"><a class=\"arial11_summ\" href=\"/news/stocks-views/reliance-industries-may-outperform-siddarth-bhamre_4815581.html\" title=\"Reliance Industries may outperform: Siddarth Bhamre\"><img alt=\"Reliance Industries may outperform: Siddarth Bhamre\" border=\"0\" data-original=\"https://img-d05.moneycontrol.co.in/news_image_files/2015/c/crude_oil.jpg\" height=\"75px\" src=\"https://img-d05.moneycontrol.co.in/images/market/grey.gif\" width=\"90px\"/></a></div>\n",
              "<div class=\"FL\" style=\"width:550px\">\n",
              "<a class=\"g_14bl\" href=\"/news/stocks-views/reliance-industries-may-outperform-siddarth-bhamre_4815581.html\">\n",
              "<strong>Reliance Industries may outperform: Siddarth Bhamre</strong></a> <a href=\"/video/stocks-views/reliance-industries-may-outperform-siddarth-bhamre_4815581.html\"><img border=\"0\" src=\"https://img-d02.moneycontrol.co.in/images/mc_common/b_videoicon.gif\"/></a>\n",
              "<p class=\"PT3 a_10dgry\">4.01 pm | 31 Dec 2015 |   Source: <span class=\"a_2_10bl\">CNBC-TV18</span></p>\n",
              "<p class=\"PT3\">Siddarth Bhamre of Angel Broking feels that Reliance Industries may outperform in January series....</p>\n",
              "</div>\n",
              "<div class=\"CL\"></div>\n",
              "</div>"
            ]
          },
          "metadata": {
            "tags": []
          },
          "execution_count": 59
        }
      ]
    },
    {
      "cell_type": "code",
      "metadata": {
        "colab": {
          "base_uri": "https://localhost:8080/",
          "height": 35
        },
        "id": "tMKVd_WKfLoL",
        "outputId": "3d3d3eb7-4ef9-46ef-e758-ea4032fc0a92"
      },
      "source": [
        "card.find('div', style=\"width:550px\").strong.text"
      ],
      "execution_count": 60,
      "outputs": [
        {
          "output_type": "execute_result",
          "data": {
            "application/vnd.google.colaboratory.intrinsic+json": {
              "type": "string"
            },
            "text/plain": [
              "'Reliance Industries may outperform: Siddarth Bhamre'"
            ]
          },
          "metadata": {
            "tags": []
          },
          "execution_count": 60
        }
      ]
    },
    {
      "cell_type": "code",
      "metadata": {
        "colab": {
          "base_uri": "https://localhost:8080/",
          "height": 35
        },
        "id": "9SKUL9siftOW",
        "outputId": "1d91c083-b1c7-40e0-fd60-785d8e481ab1"
      },
      "source": [
        "card.find('a', 'g_14bl').find('strong').text"
      ],
      "execution_count": 61,
      "outputs": [
        {
          "output_type": "execute_result",
          "data": {
            "application/vnd.google.colaboratory.intrinsic+json": {
              "type": "string"
            },
            "text/plain": [
              "'Reliance Industries may outperform: Siddarth Bhamre'"
            ]
          },
          "metadata": {
            "tags": []
          },
          "execution_count": 61
        }
      ]
    },
    {
      "cell_type": "code",
      "metadata": {
        "colab": {
          "base_uri": "https://localhost:8080/",
          "height": 35
        },
        "id": "5tjskHvxfmQu",
        "outputId": "9785d9a8-1dfa-431c-dcf3-b460500cdd0c"
      },
      "source": [
        "card.find('a', 'g_14bl').text"
      ],
      "execution_count": 62,
      "outputs": [
        {
          "output_type": "execute_result",
          "data": {
            "application/vnd.google.colaboratory.intrinsic+json": {
              "type": "string"
            },
            "text/plain": [
              "'\\nReliance Industries may outperform: Siddarth Bhamre'"
            ]
          },
          "metadata": {
            "tags": []
          },
          "execution_count": 62
        }
      ]
    },
    {
      "cell_type": "code",
      "metadata": {
        "colab": {
          "base_uri": "https://localhost:8080/",
          "height": 35
        },
        "id": "TfhPzSDX7BCq",
        "outputId": "b0554239-6ac3-46c2-ee69-c499a0a098a6"
      },
      "source": [
        "card.find('p', 'PT3').text.replace('\\xa0|\\xa0', '').strip()"
      ],
      "execution_count": 66,
      "outputs": [
        {
          "output_type": "execute_result",
          "data": {
            "application/vnd.google.colaboratory.intrinsic+json": {
              "type": "string"
            },
            "text/plain": [
              "'4.01 pm | 31 Dec 2015  Source: CNBC-TV18'"
            ]
          },
          "metadata": {
            "tags": []
          },
          "execution_count": 66
        }
      ]
    },
    {
      "cell_type": "code",
      "metadata": {
        "colab": {
          "base_uri": "https://localhost:8080/",
          "height": 35
        },
        "id": "Aq7Q2RpUdoZf",
        "outputId": "faaa5414-2143-49dd-8535-ef1bbd75984e"
      },
      "source": [
        "soup.find('div', 'MR10').a.get('href')"
      ],
      "execution_count": 64,
      "outputs": [
        {
          "output_type": "execute_result",
          "data": {
            "application/vnd.google.colaboratory.intrinsic+json": {
              "type": "string"
            },
            "text/plain": [
              "'/stocks/company_info/stock_news.php?sc_id=RI&scat=&pageno=2&next=0&durationType=Y&Year=2015&duration=1&news_type='"
            ]
          },
          "metadata": {
            "tags": []
          },
          "execution_count": 64
        }
      ]
    }
  ]
}