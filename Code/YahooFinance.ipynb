{
  "nbformat": 4,
  "nbformat_minor": 0,
  "metadata": {
    "colab": {
      "name": "YahooFinance.ipynb",
      "provenance": [],
      "mount_file_id": "1uY7m7GFdwgZatGEkK4i9FP87aAblC13A",
      "authorship_tag": "ABX9TyPXWs6uyVU2hmg3nVB4VQ1Q"
    },
    "kernelspec": {
      "name": "python3",
      "display_name": "Python 3"
    },
    "language_info": {
      "name": "python"
    }
  },
  "cells": [
    {
      "cell_type": "code",
      "metadata": {
        "id": "z3HSQ6hTFBGC"
      },
      "source": [
        "import re\n",
        "import csv\n",
        "from time import sleep\n",
        "from bs4 import BeautifulSoup\n",
        "import requests"
      ],
      "execution_count": null,
      "outputs": []
    },
    {
      "cell_type": "code",
      "metadata": {
        "id": "1hXnaayOvrPQ"
      },
      "source": [
        "headers = {\n",
        "    'accept': '*/*',\n",
        "    'accept-encoding': 'gzip, deflate, br',\n",
        "    'accept-language': 'en-US,en;q=0.9',\n",
        "    'referer': 'https://www.google.com',\n",
        "    'user-agent': 'Mozilla/5.0 (Windows NT 10.0; Win64; x64) AppleWebKit/537.36 (KHTML, like Gecko) Chrome/85.0.4183.83 Safari/537.36 Edg/85.0.564.44'\n",
        "}"
      ],
      "execution_count": null,
      "outputs": []
    },
    {
      "cell_type": "code",
      "metadata": {
        "id": "XG-FmnPfvxNu"
      },
      "source": [
        "def get_article(card):\n",
        "    \"\"\"Extract article information from the raw html\"\"\"\n",
        "    headline = card.find('h4', 's-title').text\n",
        "    posted = card.find('span', 's-time').text.replace('·', '').strip()\n",
        "    \n",
        "    article = (headline, posted)\n",
        "    return article"
      ],
      "execution_count": null,
      "outputs": []
    },
    {
      "cell_type": "code",
      "metadata": {
        "id": "ayX3c1EMvyHW"
      },
      "source": [
        "def get_the_news(search):\n",
        "    \"\"\"Run the main program\"\"\"\n",
        "    template = 'https://news.search.yahoo.com/search?p={}'\n",
        "    url = template.format(search)\n",
        "    articles = []\n",
        "    \n",
        "    while True:\n",
        "        response = requests.get(url, headers=headers)\n",
        "        soup = BeautifulSoup(response.text, 'html.parser')\n",
        "        cards = soup.find_all('div', 'NewsArticle')\n",
        "        \n",
        "        # extract articles from page\n",
        "        for card in cards:\n",
        "            article = get_article(card)\n",
        "            articles.append(article)\n",
        "                    \n",
        "                \n",
        "        # find the next page\n",
        "        try:\n",
        "            url = soup.find('a', 'next').get('href')\n",
        "            sleep(1)\n",
        "        except AttributeError:\n",
        "            break\n",
        "            \n",
        "    # save article data\n",
        "    with open('results.csv', 'w', newline='', encoding='utf-8') as f:\n",
        "        writer = csv.writer(f)\n",
        "        writer.writerow(['Headline', 'Posted'])\n",
        "        writer.writerows(articles)\n",
        "        \n",
        "    return articles"
      ],
      "execution_count": null,
      "outputs": []
    },
    {
      "cell_type": "code",
      "metadata": {
        "id": "_mwl9xOdGlJg"
      },
      "source": [
        "articles = get_the_news('Reliance')"
      ],
      "execution_count": null,
      "outputs": []
    },
    {
      "cell_type": "code",
      "metadata": {
        "id": "fUTIxKetHdqB"
      },
      "source": [
        "articles"
      ],
      "execution_count": null,
      "outputs": []
    },
    {
      "cell_type": "code",
      "metadata": {
        "colab": {
          "base_uri": "https://localhost:8080/",
          "height": 17
        },
        "id": "lvATXHSnLUBP",
        "outputId": "83b00e1d-a26f-496d-a935-e0e587890523"
      },
      "source": [
        "from google.colab import files\n",
        "files.download('results.csv')"
      ],
      "execution_count": null,
      "outputs": [
        {
          "output_type": "display_data",
          "data": {
            "application/javascript": [
              "\n",
              "    async function download(id, filename, size) {\n",
              "      if (!google.colab.kernel.accessAllowed) {\n",
              "        return;\n",
              "      }\n",
              "      const div = document.createElement('div');\n",
              "      const label = document.createElement('label');\n",
              "      label.textContent = `Downloading \"${filename}\": `;\n",
              "      div.appendChild(label);\n",
              "      const progress = document.createElement('progress');\n",
              "      progress.max = size;\n",
              "      div.appendChild(progress);\n",
              "      document.body.appendChild(div);\n",
              "\n",
              "      const buffers = [];\n",
              "      let downloaded = 0;\n",
              "\n",
              "      const channel = await google.colab.kernel.comms.open(id);\n",
              "      // Send a message to notify the kernel that we're ready.\n",
              "      channel.send({})\n",
              "\n",
              "      for await (const message of channel.messages) {\n",
              "        // Send a message to notify the kernel that we're ready.\n",
              "        channel.send({})\n",
              "        if (message.buffers) {\n",
              "          for (const buffer of message.buffers) {\n",
              "            buffers.push(buffer);\n",
              "            downloaded += buffer.byteLength;\n",
              "            progress.value = downloaded;\n",
              "          }\n",
              "        }\n",
              "      }\n",
              "      const blob = new Blob(buffers, {type: 'application/binary'});\n",
              "      const a = document.createElement('a');\n",
              "      a.href = window.URL.createObjectURL(blob);\n",
              "      a.download = filename;\n",
              "      div.appendChild(a);\n",
              "      a.click();\n",
              "      div.remove();\n",
              "    }\n",
              "  "
            ],
            "text/plain": [
              "<IPython.core.display.Javascript object>"
            ]
          },
          "metadata": {
            "tags": []
          }
        },
        {
          "output_type": "display_data",
          "data": {
            "application/javascript": [
              "download(\"download_55157b2d-81b3-49f6-9c87-6ce103f2ce54\", \"results.csv\", 84786)"
            ],
            "text/plain": [
              "<IPython.core.display.Javascript object>"
            ]
          },
          "metadata": {
            "tags": []
          }
        }
      ]
    }
  ]
}