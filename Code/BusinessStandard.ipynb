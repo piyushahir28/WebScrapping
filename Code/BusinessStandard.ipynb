{
  "nbformat": 4,
  "nbformat_minor": 0,
  "metadata": {
    "colab": {
      "name": "BusinessStandard.ipynb",
      "provenance": [],
      "collapsed_sections": [],
      "mount_file_id": "1kLdA0rJDx9U4C782Aq8D5KncAJpJ5D6B",
      "authorship_tag": "ABX9TyNYHHy4m4J6bvoIqY+uSQ0N",
      "include_colab_link": true
    },
    "kernelspec": {
      "name": "python3",
      "display_name": "Python 3"
    },
    "language_info": {
      "name": "python"
    },
    "accelerator": "GPU"
  },
  "cells": [
    {
      "cell_type": "markdown",
      "metadata": {
        "id": "view-in-github",
        "colab_type": "text"
      },
      "source": [
        "<a href=\"https://colab.research.google.com/github/piyushahir28/WebScrapping/blob/main/Code/BusinessStandard.ipynb\" target=\"_parent\"><img src=\"https://colab.research.google.com/assets/colab-badge.svg\" alt=\"Open In Colab\"/></a>"
      ]
    },
    {
      "cell_type": "code",
      "metadata": {
        "id": "HGAxGX-bwDoE"
      },
      "source": [
        "import re\n",
        "import csv\n",
        "from time import sleep\n",
        "from bs4 import BeautifulSoup\n",
        "from bs4 import * \n",
        "import requests\n",
        "import pandas as pd"
      ],
      "execution_count": 35,
      "outputs": []
    },
    {
      "cell_type": "code",
      "metadata": {
        "id": "ceD9BZHwHS1p"
      },
      "source": [
        "def get_article(head):\n",
        "  try:\n",
        "    headline = head.find('h2').text\n",
        "    posted = head.find('p').text\n",
        "\n",
        "    article = (headline,posted)\n",
        "    return article\n",
        "  except AttributeError:\n",
        "    headline = 1\n",
        "    posted = 1\n",
        "\n",
        "    article = (headline,posted)\n",
        "    return article"
      ],
      "execution_count": 36,
      "outputs": []
    },
    {
      "cell_type": "code",
      "metadata": {
        "id": "F6vjlru2y6Dm"
      },
      "source": [
        "def scylla(dates):\n",
        "  articles = []\n",
        "  for date in dates:\n",
        "    \n",
        "    template = 'https://www.business-standard.com/advance-search?advance=Y&type=news&c-q=q&q=ril&c-range=range&range=bwn_dates&from_date={}&to_date={}&itemsPerPage=19'\n",
        "    url = template.format(date,date)\n",
        "    response = requests.get(url)\n",
        "    soup = BeautifulSoup(response.text, \"html.parser\")\n",
        "    heads = soup.find_all('ul', 'listing')\n",
        "    \n",
        "    for head in heads:\n",
        "        article = get_article(head)\n",
        "        articles.append(article)\n",
        "\n",
        "    with open('BusinessStandard.csv', 'w', newline='', encoding='utf-8') as f:\n",
        "          writer = csv.writer(f)\n",
        "          writer.writerow(['Headline', 'Posted'])\n",
        "          writer.writerows(articles)\n",
        "              \n",
        "  return articles"
      ],
      "execution_count": 37,
      "outputs": []
    },
    {
      "cell_type": "code",
      "metadata": {
        "id": "KKtAzmhg_rj2"
      },
      "source": [
        "dates = []\n",
        "with open('/Missing.txt') as f:\n",
        "    dates = [line.rstrip() for line in f]\n",
        "\n",
        "articles = scylla(dates)"
      ],
      "execution_count": null,
      "outputs": []
    },
    {
      "cell_type": "code",
      "metadata": {
        "id": "m-1AEcATIwBT"
      },
      "source": [
        "articles"
      ],
      "execution_count": null,
      "outputs": []
    },
    {
      "cell_type": "code",
      "metadata": {
        "id": "5Na5_0gIq78n"
      },
      "source": [
        "from google.colab import files\n",
        "files.download('BusinessStandard.csv')"
      ],
      "execution_count": null,
      "outputs": []
    }
  ]
}