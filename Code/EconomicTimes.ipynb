{
  "nbformat": 4,
  "nbformat_minor": 0,
  "metadata": {
    "colab": {
      "name": "EconomicTimes.ipynb",
      "provenance": [],
      "authorship_tag": "ABX9TyPEfriZw2k/JDi6X0FQ2uE1",
      "include_colab_link": true
    },
    "kernelspec": {
      "name": "python3",
      "display_name": "Python 3"
    },
    "language_info": {
      "name": "python"
    }
  },
  "cells": [
    {
      "cell_type": "markdown",
      "metadata": {
        "id": "view-in-github",
        "colab_type": "text"
      },
      "source": [
        "<a href=\"https://colab.research.google.com/github/piyushahir28/WebScrapping/blob/main/Code/EconomicTimes.ipynb\" target=\"_parent\"><img src=\"https://colab.research.google.com/assets/colab-badge.svg\" alt=\"Open In Colab\"/></a>"
      ]
    },
    {
      "cell_type": "markdown",
      "metadata": {
        "id": "8emfnQiY6PPp"
      },
      "source": [
        "\n",
        "\n",
        "```\n",
        "<div class=\"\"eachStory>\n",
        "  <h3>\n",
        "    Headline\n",
        "  </h3>\n",
        "  <time>\n",
        "    Date\n",
        "  </time>\n",
        "</div>\n",
        "```\n",
        "\n"
      ]
    },
    {
      "cell_type": "code",
      "metadata": {
        "id": "HGAxGX-bwDoE"
      },
      "source": [
        "import re\n",
        "import csv\n",
        "from time import sleep\n",
        "from bs4 import BeautifulSoup\n",
        "from bs4 import * \n",
        "import requests\n",
        "import pandas as pd"
      ],
      "execution_count": 1,
      "outputs": []
    },
    {
      "cell_type": "code",
      "metadata": {
        "id": "K40X_rWgG1f1"
      },
      "source": [
        "def get_article(head):\n",
        "  headline = head.find('h3').text\n",
        "  posted = head.find('time').text[:11]\n",
        "  \n",
        "  article = (headline,posted)\n",
        "  return article"
      ],
      "execution_count": 2,
      "outputs": []
    },
    {
      "cell_type": "code",
      "metadata": {
        "id": "Gj5Y8f5uEtI7"
      },
      "source": [
        "def get_the_news():\n",
        "  #tPage = totalPage\n",
        "  articles = []\n",
        "  \n",
        "  template = 'https://economictimes.indiatimes.com/reliance-industries-ltd/stocksupdate/companyid-13215.cms'\n",
        "  url = template\n",
        "  response = requests.get(url)\n",
        "  soup = BeautifulSoup(response.text, 'html.parser')\n",
        "  heads = soup.find_all('div', 'eachStory')\n",
        "  \n",
        "  for head in heads:\n",
        "    article = get_article(head)\n",
        "    articles.append(article)\n",
        "\n",
        "  #sleep(1)\n",
        "\n",
        "  with open('EconomicTimes.csv', 'w', newline='', encoding='utf-8') as f:\n",
        "      writer = csv.writer(f)\n",
        "      writer.writerow(['Headline', 'Posted'])\n",
        "      writer.writerows(articles)\n",
        "              \n",
        "  return articles"
      ],
      "execution_count": 15,
      "outputs": []
    },
    {
      "cell_type": "code",
      "metadata": {
        "id": "cSdEP0fIHVCJ"
      },
      "source": [
        "articles = get_the_news()"
      ],
      "execution_count": 16,
      "outputs": []
    },
    {
      "cell_type": "code",
      "metadata": {
        "id": "oUhiNJ1fIol5",
        "colab": {
          "base_uri": "https://localhost:8080/"
        },
        "outputId": "99f1fbcb-13d8-4b97-ddc8-6b0de2b424eb"
      },
      "source": [
        "articles"
      ],
      "execution_count": 17,
      "outputs": [
        {
          "output_type": "execute_result",
          "data": {
            "text/plain": [
              "[('Reliance Industries  Announcement under Regulation 30 (LODR)-Analyst / Investor Meet - Outcome',\n",
              "  '15 Jun,2021'),\n",
              " ('Jio kicks off 5G field trial with own equipment in Mumbai', '15 Jun 2021'),\n",
              " ('Nifty50, Sensex close at record highs led by private bank, consumer stocks',\n",
              "  '15 Jun 2021'),\n",
              " ('Sensex scales new all-time high; Strides Pharma rises 2%', '15 Jun 2021'),\n",
              " ('Buy Reliance Industries, target price Rs 2375: ICICI Securities',\n",
              "  '15 Jun 2021'),\n",
              " ('Adani Group shares shed $6 bn despite rejecting reports on investors',\n",
              "  '14 Jun 2021'),\n",
              " ('Nifty50, Sensex recover on bargain buying; Adani stocks recoup some losses',\n",
              "  '14 Jun 2021'),\n",
              " ('Sensex, Nifty50 slump as D-Street retreats from record highs',\n",
              "  '14 Jun 2021'),\n",
              " ('Nifty’s got 16,000 in its sights', '14 Jun 2021'),\n",
              " ('Mukesh Ambani, Gautam Adani dethrone Chinese tech magnates in global rich list',\n",
              "  '13 Jun 2021'),\n",
              " ('Five of top-10 valued firms add more than Rs 1 lakh cr in m-cap; TCS, Infosys lead gainers',\n",
              "  '13 Jun 2021'),\n",
              " ('D-Street may continue winning run next week with bouts of profit booking',\n",
              "  '11 Jun 2021'),\n",
              " ('Reliance Industries  Compliances-Reg. 39 (3) - Details of Loss of Certificate / Duplicate Certificate',\n",
              "  '11 Jun,2021'),\n",
              " ('Nifty50, Sensex end strong week perched at record highs on firm global cues',\n",
              "  '11 Jun 2021'),\n",
              " ('Ahead of Market: 12 things that will decide stock action on Friday',\n",
              "  '10 Jun 2021'),\n",
              " ('Reliance Industries  Announcement under Regulation 30 (LODR)-Analyst / Investor Meet - Outcome',\n",
              "  '10 Jun,2021'),\n",
              " ('Reliance Industries  Announcement under Regulation 30 (LODR)-Analyst / Investor Meet - Outcome',\n",
              "  '10 Jun,2021'),\n",
              " ('Reliance Industries  Clarification On Dividend For Partly Paid-Up Equity Shares Of The Company Upon Receipt Of First Call',\n",
              "  '10 Jun,2021'),\n",
              " ('Sensex, Nifty50 rebound sharply on bargain buying', '10 Jun 2021'),\n",
              " ('India Inc’s billion dollar club swells during devastating Covid second wave',\n",
              "  '10 Jun 2021'),\n",
              " ('Reliance says FCCU unit at Jamnagar refinery shut, exports may be delayed',\n",
              "  '10 Jun 2021'),\n",
              " (\"Reliance Industries' partly paid shares relist at Rs 1,572 on NSE\",\n",
              "  '10 Jun 2021'),\n",
              " ('Sensex extends gains, Nifty above 15,700; RIL, Bajaj Finance rise',\n",
              "  '10 Jun 2021'),\n",
              " ('Indices give up new highs on late selloff', '10 Jun 2021'),\n",
              " ('Reliance Industries  FCCU Shutdown In SEZ Refinery At Jamnagar',\n",
              "  '09 Jun,2021'),\n",
              " ('Reliance Industries  Update On Receipt Of Amounts Due On First Call On Rs. 2.50/- Paid-Up Equity Shares Of The Company',\n",
              "  '09 Jun,2021'),\n",
              " ('Reliance Industries  Compliances-Reg. 39 (3) - Details of Loss of Certificate / Duplicate Certificate',\n",
              "  '09 Jun,2021'),\n",
              " ('Reliance Industries  Announcement under Regulation 30 (LODR)-Analyst / Investor Meet - Outcome',\n",
              "  '09 Jun,2021'),\n",
              " ('Sensex, Nifty50 fall sharply on profit booking, weak global cues',\n",
              "  '09 Jun 2021'),\n",
              " ('Reliance Brands plans affordable fashion and lifestyle line to tap growing market for such products',\n",
              "  '09 Jun 2021'),\n",
              " ('Stock market news: RIL shares down nearly 1%', '09 Jun 2021'),\n",
              " ('Decoding a multibillion-dollar fight: Why Amazon is confronting the richest man in India',\n",
              "  '08 Jun 2021'),\n",
              " ('Buy Reliance Industries, target price Rs 2375: ICICI Securities',\n",
              "  '08 Jun 2021'),\n",
              " ('NUE licences may come only by November, say sources', '08 Jun 2021'),\n",
              " (\"BSE-listed cos' m-cap zooms to record Rs 229 lakh cr\", '07 Jun 2021'),\n",
              " ('Sensex, Nifty50 rise ahead of PM Modi’s address; smallcaps soar to record high',\n",
              "  '07 Jun 2021'),\n",
              " ('Nifty likely to touch 16,000 in near term, Reliance rally further',\n",
              "  '07 Jun 2021'),\n",
              " ('Government challenges PMT fields verdict in UK high court', '07 Jun 2021'),\n",
              " ('Government challenges Panna-Mukta field arbitration award before English High Court',\n",
              "  '06 Jun 2021'),\n",
              " ('Reliance Industries  Announcement under Regulation 30 (LODR)-Analyst / Investor Meet - Outcome',\n",
              "  '04 Jun,2021')]"
            ]
          },
          "metadata": {
            "tags": []
          },
          "execution_count": 17
        }
      ]
    },
    {
      "cell_type": "code",
      "metadata": {
        "colab": {
          "base_uri": "https://localhost:8080/",
          "height": 17
        },
        "id": "FJS9QfeYL9pU",
        "outputId": "15348e5f-b4bd-452c-a08d-e626778f8286"
      },
      "source": [
        "from google.colab import files\n",
        "files.download('EconomicTimes.csv')"
      ],
      "execution_count": 18,
      "outputs": [
        {
          "output_type": "display_data",
          "data": {
            "application/javascript": [
              "\n",
              "    async function download(id, filename, size) {\n",
              "      if (!google.colab.kernel.accessAllowed) {\n",
              "        return;\n",
              "      }\n",
              "      const div = document.createElement('div');\n",
              "      const label = document.createElement('label');\n",
              "      label.textContent = `Downloading \"${filename}\": `;\n",
              "      div.appendChild(label);\n",
              "      const progress = document.createElement('progress');\n",
              "      progress.max = size;\n",
              "      div.appendChild(progress);\n",
              "      document.body.appendChild(div);\n",
              "\n",
              "      const buffers = [];\n",
              "      let downloaded = 0;\n",
              "\n",
              "      const channel = await google.colab.kernel.comms.open(id);\n",
              "      // Send a message to notify the kernel that we're ready.\n",
              "      channel.send({})\n",
              "\n",
              "      for await (const message of channel.messages) {\n",
              "        // Send a message to notify the kernel that we're ready.\n",
              "        channel.send({})\n",
              "        if (message.buffers) {\n",
              "          for (const buffer of message.buffers) {\n",
              "            buffers.push(buffer);\n",
              "            downloaded += buffer.byteLength;\n",
              "            progress.value = downloaded;\n",
              "          }\n",
              "        }\n",
              "      }\n",
              "      const blob = new Blob(buffers, {type: 'application/binary'});\n",
              "      const a = document.createElement('a');\n",
              "      a.href = window.URL.createObjectURL(blob);\n",
              "      a.download = filename;\n",
              "      div.appendChild(a);\n",
              "      a.click();\n",
              "      div.remove();\n",
              "    }\n",
              "  "
            ],
            "text/plain": [
              "<IPython.core.display.Javascript object>"
            ]
          },
          "metadata": {
            "tags": []
          }
        },
        {
          "output_type": "display_data",
          "data": {
            "application/javascript": [
              "download(\"download_a54dbcc9-8520-4ac2-9e2f-2e9b14b60abf\", \"EconomicTimes.csv\", 3587)"
            ],
            "text/plain": [
              "<IPython.core.display.Javascript object>"
            ]
          },
          "metadata": {
            "tags": []
          }
        }
      ]
    }
  ]
}