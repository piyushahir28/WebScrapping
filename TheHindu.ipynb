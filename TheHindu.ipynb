{
  "nbformat": 4,
  "nbformat_minor": 0,
  "metadata": {
    "colab": {
      "name": "TheHindu.ipynb",
      "provenance": [],
      "authorship_tag": "ABX9TyP5plB8RrM54KZdc4m+oUDJ",
      "include_colab_link": true
    },
    "kernelspec": {
      "name": "python3",
      "display_name": "Python 3"
    },
    "language_info": {
      "name": "python"
    },
    "accelerator": "GPU"
  },
  "cells": [
    {
      "cell_type": "markdown",
      "metadata": {
        "id": "view-in-github",
        "colab_type": "text"
      },
      "source": [
        "<a href=\"https://colab.research.google.com/github/piyushahir28/WebScrapping/blob/main/TheHindu.ipynb\" target=\"_parent\"><img src=\"https://colab.research.google.com/assets/colab-badge.svg\" alt=\"Open In Colab\"/></a>"
      ]
    },
    {
      "cell_type": "markdown",
      "metadata": {
        "id": "8emfnQiY6PPp"
      },
      "source": [
        "\n",
        "\n",
        "```\n",
        "<div class=\"story-card-news\">\n",
        "  <a class=\"story-card75x1-text\">\n",
        "    Headline\n",
        "  </a>\n",
        "  <span class=\"dateline\">\n",
        "    Date\n",
        "  </span>\n",
        "</div>\n",
        "```\n",
        "\n"
      ]
    },
    {
      "cell_type": "code",
      "metadata": {
        "id": "HGAxGX-bwDoE"
      },
      "source": [
        "import re\n",
        "import csv\n",
        "from time import sleep\n",
        "from bs4 import BeautifulSoup\n",
        "from bs4 import * \n",
        "import requests\n",
        "import pandas as pd"
      ],
      "execution_count": 112,
      "outputs": []
    },
    {
      "cell_type": "code",
      "metadata": {
        "id": "K40X_rWgG1f1"
      },
      "source": [
        "def get_article(head):\n",
        "  headl = head.find('a', 'story-card75x1-text').text\n",
        "  headline = headl[1:]\n",
        "  posted = head.find('span', 'dateline').text\n",
        "\n",
        "  article = (headline,posted)\n",
        "  return article"
      ],
      "execution_count": 113,
      "outputs": []
    },
    {
      "cell_type": "code",
      "metadata": {
        "id": "Gj5Y8f5uEtI7"
      },
      "source": [
        "def get_the_news(totalPage):\n",
        "  tPage = totalPage\n",
        "  articles = []\n",
        "  \n",
        "  for page in range(1, tPage):\n",
        "    template = 'https://www.thehindu.com/search/?q=Reliance%20Industries&order=DESC&sort=publishdate&page={}'\n",
        "    url = template.format(page)\n",
        "    response = requests.get(url)\n",
        "    soup = BeautifulSoup(response.text, 'html.parser')\n",
        "    heads = soup.find_all('div', 'story-card-news')\n",
        "  \n",
        "    for head in heads:\n",
        "      article = get_article(head)\n",
        "      articles.append(article)\n",
        "\n",
        "    sleep(1)\n",
        "\n",
        "    with open('results.csv', 'w', newline='', encoding='utf-8') as f:\n",
        "        writer = csv.writer(f)\n",
        "        writer.writerow(['Headline', 'Posted'])\n",
        "        writer.writerows(articles)\n",
        "              \n",
        "  return articles"
      ],
      "execution_count": 114,
      "outputs": []
    },
    {
      "cell_type": "code",
      "metadata": {
        "id": "cSdEP0fIHVCJ"
      },
      "source": [
        "articles = get_the_news(1075)"
      ],
      "execution_count": null,
      "outputs": []
    },
    {
      "cell_type": "code",
      "metadata": {
        "colab": {
          "base_uri": "https://localhost:8080/"
        },
        "id": "oUhiNJ1fIol5",
        "outputId": "44ec6878-46af-4372-e36d-fc832c0ff8a8"
      },
      "source": [
        "articles"
      ],
      "execution_count": 116,
      "outputs": [
        {
          "output_type": "execute_result",
          "data": {
            "text/plain": [
              "[('Rare earth metals at the heart of China-U.S. rivalry ', ' June 13, 2021'),\n",
              " ('Sensex, Nifty jump to lifetime highs ', ' June 11, 2021'),\n",
              " (\"Bharti Airtel's Ajai Puri re-elected as COAI chairman for 2021-22 \",\n",
              "  ' June 11, 2021'),\n",
              " ('Sensex jumps over 250 points in early trade, Nifty tops 15,800 ',\n",
              "  ' June 11, 2021'),\n",
              " ('Reliance shuts unit at Jamnagar refinery ', ' June 10, 2021'),\n",
              " ('In a world first, El Salvador makes bitcoin legal tender ',\n",
              "  ' June 10, 2021'),\n",
              " ('Sensex tumbles 334 points; Nifty drops below 15,650 ', ' June 09, 2021'),\n",
              " ('News from the world of education: June 9, 2021 ', ' June 09, 2021'),\n",
              " ('Sensex, Nifty end marginally lower ', ' June 08, 2021'),\n",
              " (\"Today's top business news: Shares erase gains as global inflation worries weigh, free vaccines and food to cost India an additional $11 billion, oil falls again amid concerns over demand rebound, and more \",\n",
              "  ' June 08, 2021'),\n",
              " ('Analysis | Facebook and its family of apps want to be a mega digital bazaar ',\n",
              "  ' June 08, 2021'),\n",
              " ('Benchmarks soar to fresh peaks; Sensex jumps 228 points ',\n",
              "  ' June 07, 2021'),\n",
              " (\"Save Fairy Creek: The battle over Western Canada's ancient forests \",\n",
              "  ' June 07, 2021'),\n",
              " ('Govt challenges Panna-Mukta field arbitration before English High Court ',\n",
              "  ' June 06, 2021'),\n",
              " ('5G tech safe, concerns around health consequences misplaced: COAI ',\n",
              "  ' June 06, 2021'),\n",
              " ('India advances 20% ethanol-blending in petrol to 2025, says PM Modi ',\n",
              "  ' June 05, 2021'),\n",
              " ('Sensex slips as RBI trims GDP growth forecast ', ' June 05, 2021'),\n",
              " ('Modern farming: Coronavirus outbreak spurs high-tech greenhouse boom in China ',\n",
              "  ' June 04, 2021'),\n",
              " ('Markets retreat from record highs as RBI trims growth forecast; banks, RIL top drags ',\n",
              "  ' June 04, 2021'),\n",
              " ('Jio accelerating rollout of digital platforms, indigenously-developed 5G stack ',\n",
              "  ' June 04, 2021'),\n",
              " ('Top news of the day: Southwest monsoon arrives over Kerala; India holds talks with foreign COVID-19 vaccine makers for local manufacturing, and more ',\n",
              "  ' June 03, 2021'),\n",
              " ('Reliance Industries shares maintain winning run for 7th day; M-cap crosses ₹ 14 lakh crore mark ',\n",
              "  ' June 03, 2021'),\n",
              " ('Reliance submits proposal for potential COVID drug ', ' June 03, 2021'),\n",
              " ('Mukesh Ambani draws nil salary ', ' June 03, 2021')]"
            ]
          },
          "metadata": {
            "tags": []
          },
          "execution_count": 116
        }
      ]
    },
    {
      "cell_type": "code",
      "metadata": {
        "colab": {
          "base_uri": "https://localhost:8080/",
          "height": 17
        },
        "id": "FJS9QfeYL9pU",
        "outputId": "6a16bb36-f16e-4f72-e936-0b02817c4624"
      },
      "source": [
        "from google.colab import files\n",
        "files.download('results.csv')"
      ],
      "execution_count": 117,
      "outputs": [
        {
          "output_type": "display_data",
          "data": {
            "application/javascript": [
              "\n",
              "    async function download(id, filename, size) {\n",
              "      if (!google.colab.kernel.accessAllowed) {\n",
              "        return;\n",
              "      }\n",
              "      const div = document.createElement('div');\n",
              "      const label = document.createElement('label');\n",
              "      label.textContent = `Downloading \"${filename}\": `;\n",
              "      div.appendChild(label);\n",
              "      const progress = document.createElement('progress');\n",
              "      progress.max = size;\n",
              "      div.appendChild(progress);\n",
              "      document.body.appendChild(div);\n",
              "\n",
              "      const buffers = [];\n",
              "      let downloaded = 0;\n",
              "\n",
              "      const channel = await google.colab.kernel.comms.open(id);\n",
              "      // Send a message to notify the kernel that we're ready.\n",
              "      channel.send({})\n",
              "\n",
              "      for await (const message of channel.messages) {\n",
              "        // Send a message to notify the kernel that we're ready.\n",
              "        channel.send({})\n",
              "        if (message.buffers) {\n",
              "          for (const buffer of message.buffers) {\n",
              "            buffers.push(buffer);\n",
              "            downloaded += buffer.byteLength;\n",
              "            progress.value = downloaded;\n",
              "          }\n",
              "        }\n",
              "      }\n",
              "      const blob = new Blob(buffers, {type: 'application/binary'});\n",
              "      const a = document.createElement('a');\n",
              "      a.href = window.URL.createObjectURL(blob);\n",
              "      a.download = filename;\n",
              "      div.appendChild(a);\n",
              "      a.click();\n",
              "      div.remove();\n",
              "    }\n",
              "  "
            ],
            "text/plain": [
              "<IPython.core.display.Javascript object>"
            ]
          },
          "metadata": {
            "tags": []
          }
        },
        {
          "output_type": "display_data",
          "data": {
            "application/javascript": [
              "download(\"download_2397f133-7165-4835-8ac8-e3afc43c93c4\", \"results.csv\", 563066)"
            ],
            "text/plain": [
              "<IPython.core.display.Javascript object>"
            ]
          },
          "metadata": {
            "tags": []
          }
        }
      ]
    }
  ]
}